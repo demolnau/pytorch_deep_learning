{
 "cells": [
  {
   "cell_type": "code",
   "execution_count": 1,
   "metadata": {},
   "outputs": [],
   "source": [
    "import torch"
   ]
  },
  {
   "cell_type": "code",
   "execution_count": 2,
   "metadata": {},
   "outputs": [
    {
     "name": "stdout",
     "output_type": "stream",
     "text": [
      "tensor(3)\n",
      "3\n"
     ]
    }
   ],
   "source": [
    "\n",
    "#@title Indexing 1-dim tensor example\n",
    "one_dim_tensor=torch.tensor([1,2,3,4,5,6,7,8])\n",
    "print(one_dim_tensor[2])\n",
    "print(one_dim_tensor[2].item())"
   ]
  },
  {
   "cell_type": "code",
   "execution_count": 3,
   "metadata": {},
   "outputs": [
    {
     "data": {
      "text/plain": [
       "tensor([2, 3, 4])"
      ]
     },
     "execution_count": 3,
     "metadata": {},
     "output_type": "execute_result"
    }
   ],
   "source": [
    "\n",
    "#@title Slicing 1-dim tensor example\n",
    "# [start:end:step]\n",
    "one_dim_tensor[1:4]"
   ]
  },
  {
   "cell_type": "code",
   "execution_count": 4,
   "metadata": {},
   "outputs": [
    {
     "data": {
      "text/plain": [
       "tensor(10)"
      ]
     },
     "execution_count": 4,
     "metadata": {},
     "output_type": "execute_result"
    }
   ],
   "source": [
    "#@title Indexing 2-dim tensor example\n",
    "two_dim_tensor=torch.tensor([[1,2,3,4,5,6],[7,8,9,10,11,12],[13,14,15,16,17,18],[19,20,21,22,23,24]])\n",
    "two_dim_tensor[1][3]"
   ]
  },
  {
   "cell_type": "code",
   "execution_count": 5,
   "metadata": {},
   "outputs": [
    {
     "name": "stdout",
     "output_type": "stream",
     "text": [
      "first three elements of the 1st row:  tensor([1, 2, 3])\n",
      "first four elements of the 2nd row:  tensor([ 7,  8,  9, 10])\n"
     ]
    }
   ],
   "source": [
    "#@title Slicing 2-dim tensor example\n",
    "print(\"first three elements of the 1st row: \",two_dim_tensor[0, 0:3])\n",
    "print(\"first four elements of the 2nd row: \",two_dim_tensor[1,0:4])"
   ]
  },
  {
   "cell_type": "code",
   "execution_count": 6,
   "metadata": {},
   "outputs": [
    {
     "data": {
      "text/plain": [
       "tensor([ 1,  2,  3,  4,  5,  6,  7,  8,  9, 10])"
      ]
     },
     "execution_count": 6,
     "metadata": {},
     "output_type": "execute_result"
    }
   ],
   "source": [
    "#@title Use indexing to extract the data that meets some criteria\n",
    "two_dim_tensor[two_dim_tensor<11]"
   ]
  },
  {
   "cell_type": "code",
   "execution_count": 7,
   "metadata": {},
   "outputs": [
    {
     "data": {
      "text/plain": [
       "tensor([[[ 1,  2,  3,  4,  5,  6],\n",
       "         [ 7,  8,  9, 10, 11, 12],\n",
       "         [13, 14, 15, 16, 17, 18],\n",
       "         [19, 20, 21, 22, 23, 24]],\n",
       "\n",
       "        [[ 1,  2,  3,  4,  5,  6],\n",
       "         [ 7,  8,  9, 10, 11, 12],\n",
       "         [13, 14, 15, 16, 17, 18],\n",
       "         [19, 20, 21, 22, 23, 24]]])"
      ]
     },
     "execution_count": 7,
     "metadata": {},
     "output_type": "execute_result"
    }
   ],
   "source": [
    "#@title Combining tensors\n",
    "torch.stack((two_dim_tensor, two_dim_tensor))"
   ]
  },
  {
   "cell_type": "code",
   "execution_count": 8,
   "metadata": {},
   "outputs": [
    {
     "name": "stdout",
     "output_type": "stream",
     "text": [
      "tensor([1, 2, 3, 4, 5, 6]) tensor([ 7,  8,  9, 10, 11, 12]) tensor([13, 14, 15, 16, 17, 18]) tensor([19, 20, 21, 22, 23, 24])\n"
     ]
    }
   ],
   "source": [
    "\n",
    "#@title Splitting tensors\n",
    "first_tensor, second_tensor, third_tensor, fourth_tensor=torch.unbind(two_dim_tensor)\n",
    "print(first_tensor, second_tensor, third_tensor, fourth_tensor)"
   ]
  },
  {
   "cell_type": "code",
   "execution_count": 9,
   "metadata": {},
   "outputs": [
    {
     "data": {
      "text/plain": [
       "(tensor([ 1,  7, 13, 19]),\n",
       " tensor([ 2,  8, 14, 20]),\n",
       " tensor([ 3,  9, 15, 21]),\n",
       " tensor([ 4, 10, 16, 22]),\n",
       " tensor([ 5, 11, 17, 23]),\n",
       " tensor([ 6, 12, 18, 24]))"
      ]
     },
     "execution_count": 9,
     "metadata": {},
     "output_type": "execute_result"
    }
   ],
   "source": [
    "#@title Splitting 2-dim tensor\n",
    "torch.unbind(two_dim_tensor,dim=1)"
   ]
  }
 ],
 "metadata": {
  "kernelspec": {
   "display_name": "li-tutorial",
   "language": "python",
   "name": "python3"
  },
  "language_info": {
   "codemirror_mode": {
    "name": "ipython",
    "version": 3
   },
   "file_extension": ".py",
   "mimetype": "text/x-python",
   "name": "python",
   "nbconvert_exporter": "python",
   "pygments_lexer": "ipython3",
   "version": "3.12.3"
  }
 },
 "nbformat": 4,
 "nbformat_minor": 2
}
