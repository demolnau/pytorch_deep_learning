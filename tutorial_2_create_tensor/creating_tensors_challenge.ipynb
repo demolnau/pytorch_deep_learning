{
 "cells": [
  {
   "cell_type": "code",
   "execution_count": 6,
   "metadata": {},
   "outputs": [],
   "source": [
    "import torch\n",
    "#from mock_tensor import MockTensor as torch\n",
    "import numpy as np\n",
    "input_list = [[1, 5, 7, 9, 11], [13, 15, 17, 19, 21]]\n",
    "input_array = np.array([[[15, 17, 11], [19, 14, 13]]])"
   ]
  },
  {
   "cell_type": "code",
   "execution_count": 3,
   "metadata": {},
   "outputs": [],
   "source": [
    "def create_tensor_from_list(input_list):\n",
    "    tensor_from_list = torch.tensor(input_list)\n",
    "    return tensor_from_list\n",
    "\n",
    "def create_tensor_from_array(input_array):\n",
    "    tensor_from_array = torch.tensor(input_array)\n",
    "    return tensor_from_array\n",
    "\n",
    "#create tensors that have the shape of 3 by 4 filled with ones\n",
    "def create_tensor_ones():\n",
    "    tensor_ones= torch.ones(3,4)\n",
    "    return tensor_ones\n",
    "\n",
    "#create tensors that have the shape of 4 by 5 filled with 5\n",
    "def create_tensor_full():\n",
    "    tensor_full = torch.full((4,5),5)\n",
    "    return tensor_full"
   ]
  },
  {
   "cell_type": "code",
   "execution_count": 10,
   "metadata": {},
   "outputs": [
    {
     "data": {
      "text/plain": [
       "tensor([[5, 5, 5, 5, 5],\n",
       "        [5, 5, 5, 5, 5],\n",
       "        [5, 5, 5, 5, 5],\n",
       "        [5, 5, 5, 5, 5]])"
      ]
     },
     "execution_count": 10,
     "metadata": {},
     "output_type": "execute_result"
    }
   ],
   "source": [
    "tensor_from_list = create_tensor_from_list(input_list)  \n",
    "tensor_from_list\n"
   ]
  },
  {
   "cell_type": "code",
   "execution_count": 9,
   "metadata": {},
   "outputs": [
    {
     "data": {
      "text/plain": [
       "tensor([[ 1,  5,  7,  9, 11],\n",
       "        [13, 15, 17, 19, 21]])"
      ]
     },
     "execution_count": 9,
     "metadata": {},
     "output_type": "execute_result"
    }
   ],
   "source": [
    "tensor_from_array = create_tensor_from_array(input_array)\n",
    "tensor_from_array\n"
   ]
  },
  {
   "cell_type": "code",
   "execution_count": 11,
   "metadata": {},
   "outputs": [
    {
     "data": {
      "text/plain": [
       "tensor([[1., 1., 1., 1.],\n",
       "        [1., 1., 1., 1.],\n",
       "        [1., 1., 1., 1.]])"
      ]
     },
     "execution_count": 11,
     "metadata": {},
     "output_type": "execute_result"
    }
   ],
   "source": [
    "ones_tensor = create_tensor_ones()\n",
    "ones_tensor\n"
   ]
  },
  {
   "cell_type": "code",
   "execution_count": 12,
   "metadata": {},
   "outputs": [
    {
     "data": {
      "text/plain": [
       "tensor([[5, 5, 5, 5, 5],\n",
       "        [5, 5, 5, 5, 5],\n",
       "        [5, 5, 5, 5, 5],\n",
       "        [5, 5, 5, 5, 5]])"
      ]
     },
     "execution_count": 12,
     "metadata": {},
     "output_type": "execute_result"
    }
   ],
   "source": [
    "full_tensor = create_tensor_full()\n",
    "full_tensor"
   ]
  }
 ],
 "metadata": {
  "kernelspec": {
   "display_name": "li-tutorial",
   "language": "python",
   "name": "python3"
  },
  "language_info": {
   "codemirror_mode": {
    "name": "ipython",
    "version": 3
   },
   "file_extension": ".py",
   "mimetype": "text/x-python",
   "name": "python",
   "nbconvert_exporter": "python",
   "pygments_lexer": "ipython3",
   "version": "3.12.3"
  }
 },
 "nbformat": 4,
 "nbformat_minor": 2
}
