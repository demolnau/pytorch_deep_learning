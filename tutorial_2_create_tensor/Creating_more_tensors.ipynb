{
 "cells": [
  {
   "cell_type": "markdown",
   "metadata": {},
   "source": [
    "# Different ways to create tensors \n",
    "## Using List and Truple"
   ]
  },
  {
   "cell_type": "code",
   "execution_count": 2,
   "metadata": {},
   "outputs": [],
   "source": [
    "import torch\n",
    "import numpy as np\n"
   ]
  },
  {
   "cell_type": "code",
   "execution_count": 3,
   "metadata": {},
   "outputs": [
    {
     "name": "stdout",
     "output_type": "stream",
     "text": [
      "Tensor from list: tensor([1, 2, 3, 4, 5])\n",
      "Tensor from tuple: tensor([ 6,  7,  8,  9, 10])\n"
     ]
    }
   ],
   "source": [
    "# initialize a tensor from a Python list\n",
    "tensor_from_list=torch.tensor([1,2,3,4,5])\n",
    "# initialize a tensor from a tuple\n",
    "tensor_from_tuple=torch.tensor((6,7,8,9,10))\n",
    "print(\"Tensor from list:\",tensor_from_list)\n",
    "print(\"Tensor from tuple:\",tensor_from_tuple)"
   ]
  },
  {
   "cell_type": "markdown",
   "metadata": {},
   "source": [
    "## Creating Tensor using NumPy array"
   ]
  },
  {
   "cell_type": "code",
   "execution_count": 4,
   "metadata": {},
   "outputs": [
    {
     "name": "stdout",
     "output_type": "stream",
     "text": [
      "Tensor from array: tensor([11, 12, 13, 14, 15], dtype=torch.int32)\n"
     ]
    }
   ],
   "source": [
    "# initialize a tensor from a ndarray\n",
    "tensor_from_array=torch.tensor(np.array([11,12,13,14,15]))\n",
    "print(\"Tensor from array:\",tensor_from_array)"
   ]
  },
  {
   "cell_type": "markdown",
   "metadata": {},
   "source": [
    "# Different Functions for creating tensors:\n",
    "### torch.empty, torch.ones(), and torch.zeros()"
   ]
  },
  {
   "cell_type": "code",
   "execution_count": 5,
   "metadata": {},
   "outputs": [
    {
     "name": "stdout",
     "output_type": "stream",
     "text": [
      "tensor_emp : tensor([[0., 0., 0., 0.],\n",
      "        [0., 0., 0., 0.],\n",
      "        [0., 0., 0., 0.]])\n",
      "tensor_zeros : tensor([[0., 0., 0., 0.],\n",
      "        [0., 0., 0., 0.],\n",
      "        [0., 0., 0., 0.]])\n",
      "tensor_ones : tensor([[1., 1., 1., 1.],\n",
      "        [1., 1., 1., 1.],\n",
      "        [1., 1., 1., 1.]])\n"
     ]
    }
   ],
   "source": [
    "tensor_emp = torch.empty(3,4)\n",
    "print(\"tensor_emp :\",tensor_emp)\n",
    "tensor_zeros = torch.zeros(3,4)\n",
    "print(\"tensor_zeros :\",tensor_zeros)\n",
    "tensor_ones= torch.ones(3,4)\n",
    "print(\"tensor_ones :\",tensor_ones)"
   ]
  },
  {
   "cell_type": "code",
   "execution_count": 11,
   "metadata": {},
   "outputs": [
    {
     "name": "stdout",
     "output_type": "stream",
     "text": [
      "tensor_rand_un : tensor([[0.4088, 0.9795, 0.6853, 0.7752, 0.2615],\n",
      "        [0.5221, 0.6190, 0.2530, 0.7370, 0.1868],\n",
      "        [0.1193, 0.9247, 0.6481, 0.9900, 0.6734],\n",
      "        [0.3763, 0.9453, 0.9482, 0.0096, 0.5929]])\n",
      "tensor_rand_norm : tensor([[-0.9473,  0.7839, -0.1107,  1.0579,  0.4674],\n",
      "        [ 1.4291, -0.1186,  0.1620,  1.2947,  1.3271],\n",
      "        [-1.5856,  0.2466,  0.1884, -0.0572, -1.4835],\n",
      "        [ 0.4835,  0.1610,  1.7027,  0.2480,  0.5990]])\n",
      "tensor_rand_int : tensor([[5, 7, 5, 8, 5],\n",
      "        [7, 5, 9, 7, 9],\n",
      "        [9, 8, 5, 7, 5],\n",
      "        [9, 8, 6, 7, 7]])\n"
     ]
    }
   ],
   "source": [
    "# tensors initialized by size with random values\n",
    "# returns a tensor filled with random numbers from a uniform distribution\n",
    "tensor_rand_un = torch.rand(4,5)\n",
    "print(\"tensor_rand_un :\",tensor_rand_un)\n",
    "# returns a tensor filled with random numbers from a normal distribution\n",
    "tensor_rand_norm = torch.randn(4,5)\n",
    "print(\"tensor_rand_norm :\",tensor_rand_norm)\n",
    "# returns a tensor filled with random integers generated uniformly\n",
    "tensor_rand_int = torch.randint(5,10,(4,5))\n",
    "print(\"tensor_rand_int :\",tensor_rand_int)"
   ]
  },
  {
   "cell_type": "code",
   "execution_count": 7,
   "metadata": {},
   "outputs": [
    {
     "data": {
      "text/plain": [
       "tensor([[0.7156, 0.9140, 0.2819],\n",
       "        [0.2581, 0.6311, 0.6001],\n",
       "        [0.9312, 0.2153, 0.6033]])"
      ]
     },
     "execution_count": 7,
     "metadata": {},
     "output_type": "execute_result"
    }
   ],
   "source": [
    "# torch.rand() selects random values from a uniform distribution on the interval [0-1] This will result in a changing tensor unless given a seed value\n",
    "torch.manual_seed(111)\n",
    "torch.rand(3,3)"
   ]
  },
  {
   "cell_type": "code",
   "execution_count": null,
   "metadata": {},
   "outputs": [],
   "source": [
    "# to get random integers fenerated uniformally between low and high values using randint(). the range is -1 to 10 in this example\n",
    "torch.randint(-1,10 (3,3))"
   ]
  }
 ],
 "metadata": {
  "kernelspec": {
   "display_name": "li-tutorial",
   "language": "python",
   "name": "python3"
  },
  "language_info": {
   "codemirror_mode": {
    "name": "ipython",
    "version": 3
   },
   "file_extension": ".py",
   "mimetype": "text/x-python",
   "name": "python",
   "nbconvert_exporter": "python",
   "pygments_lexer": "ipython3",
   "version": "3.12.3"
  }
 },
 "nbformat": 4,
 "nbformat_minor": 2
}
